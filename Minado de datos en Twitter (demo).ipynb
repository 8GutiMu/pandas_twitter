{
 "cells": [
  {
   "cell_type": "markdown",
   "metadata": {
    "toc": "true"
   },
   "source": [
    "# Table of Contents\n",
    " <p><div class=\"lev1 toc-item\"><a href=\"#Minando-datos-de-Twitter-con-Pandas-+-Tweepy\" data-toc-modified-id=\"Minando-datos-de-Twitter-con-Pandas-+-Tweepy-1\"><span class=\"toc-item-num\">1&nbsp;&nbsp;</span><strong>Minando datos de Twitter con Pandas + Tweepy</strong></a></div><div class=\"lev2 toc-item\"><a href=\"#Importamos-nuestras-librerías\" data-toc-modified-id=\"Importamos-nuestras-librerías-11\"><span class=\"toc-item-num\">1.1&nbsp;&nbsp;</span>Importamos nuestras librerías</a></div><div class=\"lev2 toc-item\"><a href=\"#Creamos-una-App-de-Twitter\" data-toc-modified-id=\"Creamos-una-App-de-Twitter-12\"><span class=\"toc-item-num\">1.2&nbsp;&nbsp;</span>Creamos una App de Twitter</a></div><div class=\"lev2 toc-item\"><a href=\"#Extraemos-tweets\" data-toc-modified-id=\"Extraemos-tweets-13\"><span class=\"toc-item-num\">1.3&nbsp;&nbsp;</span>Extraemos tweets</a></div><div class=\"lev2 toc-item\"><a href=\"#Creamos-un-dataframe\" data-toc-modified-id=\"Creamos-un-dataframe-14\"><span class=\"toc-item-num\">1.4&nbsp;&nbsp;</span>Creamos un dataframe</a></div><div class=\"lev2 toc-item\"><a href=\"#Añadimos-información-relevante\" data-toc-modified-id=\"Añadimos-información-relevante-15\"><span class=\"toc-item-num\">1.5&nbsp;&nbsp;</span>Añadimos información relevante</a></div><div class=\"lev1 toc-item\"><a href=\"#Visualización-y-estadística-básica\" data-toc-modified-id=\"Visualización-y-estadística-básica-2\"><span class=\"toc-item-num\">2&nbsp;&nbsp;</span><strong>Visualización y estadística básica</strong></a></div><div class=\"lev2 toc-item\"><a href=\"#Promedios-y-popularidad\" data-toc-modified-id=\"Promedios-y-popularidad-21\"><span class=\"toc-item-num\">2.1&nbsp;&nbsp;</span>Promedios y popularidad</a></div><div class=\"lev2 toc-item\"><a href=\"#Series-de-tiempo\" data-toc-modified-id=\"Series-de-tiempo-22\"><span class=\"toc-item-num\">2.2&nbsp;&nbsp;</span>Series de tiempo</a></div><div class=\"lev2 toc-item\"><a href=\"#Pie-charts-de-dispositivos\" data-toc-modified-id=\"Pie-charts-de-dispositivos-23\"><span class=\"toc-item-num\">2.3&nbsp;&nbsp;</span>Pie charts de dispositivos</a></div><div class=\"lev1 toc-item\"><a href=\"#Análisis-de-sentimientos\" data-toc-modified-id=\"Análisis-de-sentimientos-3\"><span class=\"toc-item-num\">3&nbsp;&nbsp;</span><strong>Análisis de sentimientos</strong></a></div><div class=\"lev2 toc-item\"><a href=\"#Importando-textblob\" data-toc-modified-id=\"Importando-textblob-31\"><span class=\"toc-item-num\">3.1&nbsp;&nbsp;</span>Importando textblob</a></div><div class=\"lev2 toc-item\"><a href=\"#Analizando-sentimientos\" data-toc-modified-id=\"Analizando-sentimientos-32\"><span class=\"toc-item-num\">3.2&nbsp;&nbsp;</span>Analizando sentimientos</a></div><div class=\"lev2 toc-item\"><a href=\"#Analizando-resultados\" data-toc-modified-id=\"Analizando-resultados-33\"><span class=\"toc-item-num\">3.3&nbsp;&nbsp;</span>Analizando resultados</a></div>"
   ]
  },
  {
   "cell_type": "markdown",
   "metadata": {},
   "source": [
    "# **Minando datos de Twitter con Pandas + Tweepy**"
   ]
  },
  {
   "cell_type": "markdown",
   "metadata": {},
   "source": [
    "## Importamos nuestras librerías"
   ]
  },
  {
   "cell_type": "markdown",
   "metadata": {},
   "source": [
    "**Pandas** es una biblioteca de código abierto, que proporciona estructuras de datos de alto rendimiento y fácil de usar y herramientas de análisis de datos para el lenguaje de programación Python.\n",
    "\n",
    "**Tweepy** es una biblioteca de Python fácil de usar para acceder a la API de Twitter.\n",
    "\n",
    "**NumPy** es el paquete fundamental para la computación científica con Python. Contiene entre otras cosas:\n",
    "* Un potente objeto de matriz N-dimensional\n",
    "* Sofisticadas funciones de radiodifusión\n",
    "* Herramientas para integrar código C / C ++ y Fortran\n",
    "* Álgebra lineal útil, transformada de Fourier y capacidades de números aleatorios\n",
    "\n",
    "Además de sus usos científicos obvios, NumPy también puede ser utilizado como un eficiente contenedor multidimensional de datos genéricos. Se pueden definir tipos de datos arbitrarios. Esto permite a NumPy integrarse de forma transparente y rápida con una amplia variedad de bases de datos.\n",
    "\n",
    "**Matplotlib** es una biblioteca de trazado de Python 2D que produce figuras de calidad de publicación en una variedad de formatos impresos y entornos interactivos entre plataformas. Matplotlib se puede utilizar en scripts Python, en el shell Python e IPython, en el Jupyter Notebook, en servidores de aplicaciones web y para kits de herramientas de interfaz gráfica de usuario.\n",
    "\n",
    "**Seaborn** es una biblioteca de visualización de Python basada en matplotlib. Proporciona una interfaz de alto nivel para dibujar gráficos estadísticos atractivos."
   ]
  },
  {
   "cell_type": "code",
   "execution_count": 1,
   "metadata": {
    "ExecuteTime": {
     "end_time": "2017-07-14T23:29:12.938069Z",
     "start_time": "2017-07-14T23:29:11.783369Z"
    },
    "collapsed": true
   },
   "outputs": [],
   "source": [
    "# General:\n",
    "import tweepy           # Para consumir la API de Twitter\n",
    "import pandas as pd     # Para manejo de datos\n",
    "import numpy as np      # Para operaciones numéricas\n",
    "\n",
    "# Para ploteo y visualización:\n",
    "import seaborn as sns\n",
    "from IPython.display import display\n",
    "import matplotlib.pyplot as plt\n",
    "%matplotlib inline"
   ]
  },
  {
   "cell_type": "markdown",
   "metadata": {},
   "source": [
    "## Creamos una App de Twitter"
   ]
  },
  {
   "cell_type": "markdown",
   "metadata": {},
   "source": [
    "Para poder extraer twits para un posterior análisis, debemos acceder a nuestra cuenta de Twitter y crear una app. El sitio para poder hacer eso es [https://apps.twitter.com/](https://apps.twitter.com/).\n",
    "\n",
    "De esta app que creamos necesitaremos actualizar nuestro script `credentials.py` con la siguiente información:\n",
    "* Consumer Key (API Key)\n",
    "* Consumer Secret (API Secret)\n",
    "* Access Token\n",
    "* Access Token Secret\n",
    "\n",
    "Habiendo hehco esto, podemos proceder a consumir el API de Twitter. Para ello, creamos una función que nos permita autenticar nuestras llaves de acceso y consumo."
   ]
  },
  {
   "cell_type": "code",
   "execution_count": 2,
   "metadata": {
    "ExecuteTime": {
     "end_time": "2017-07-14T23:29:12.950450Z",
     "start_time": "2017-07-14T23:29:12.940328Z"
    },
    "collapsed": true
   },
   "outputs": [],
   "source": [
    "# Importamos nuestras llaves de acceso:\n",
    "from credentials import *\n",
    "\n",
    "# Configuración del API:\n",
    "def twitter_config():\n",
    "    \"\"\"\n",
    "    Función de utilidad para configurar el consumo del \n",
    "    API de Twitter con las llaves proporcionadas.\n",
    "    \"\"\"\n",
    "    # Autenticar y acceder usando llaves:\n",
    "    auth = tweepy.OAuthHandler(CONSUMER_KEY, CONSUMER_SECRET)\n",
    "    auth.set_access_token(ACCESS_TOKEN, ACCESS_SECRET)\n",
    "\n",
    "    # Regresar acceso al API:\n",
    "    api = tweepy.API(auth)\n",
    "    return api"
   ]
  },
  {
   "cell_type": "markdown",
   "metadata": {},
   "source": [
    "## Extraemos tweets"
   ]
  },
  {
   "cell_type": "markdown",
   "metadata": {},
   "source": [
    "Ahora podemos crear un extractor de datos de Twitter para un usuario en específico.\n",
    "\n",
    "En mi caso, utilizaré a Donald Trump ([@realDonaldTrump](https://twitter.com/realDonaldTrump)) como usuario a minar.\n",
    "\n",
    "\n",
    "<!-- <iframe src='https://twitter.com/realDonaldTrump' width=700 height=350></iframe> -->"
   ]
  },
  {
   "cell_type": "code",
   "execution_count": 3,
   "metadata": {
    "ExecuteTime": {
     "end_time": "2017-07-14T23:29:13.655298Z",
     "start_time": "2017-07-14T23:29:12.957376Z"
    }
   },
   "outputs": [
    {
     "name": "stdout",
     "output_type": "stream",
     "text": [
      "Tweets obtenidos: 200.\n",
      "\n",
      "Los primeros 5 tweets:\n",
      "\n",
      "President @EmmanuelMacron,\n",
      "Thank you for inviting Melania and myself to such a historic celebration in France.… https://t.co/TQH3wEGxT8\n",
      "\n",
      "Just landed from Paris, France. It was an incredible visit with President @EmmanuelMacron. A lot discussed and accomplished in two days!\n",
      "\n",
      "Left Paris for U.S.A. Will be heading to New Jersey and attending the\n",
      "#USWomensOpen, their most important tournament, this afternoon.\n",
      "\n",
      "Great conversations with President @EmmanuelMacron and his representatives on trade, military and security.\n",
      "\n",
      "The United States mourns for the victims of Nice, France. We pledge our solidarity with France against terror. 🇺🇸🇫🇷 https://t.co/7irbz08oT3\n",
      "\n"
     ]
    }
   ],
   "source": [
    "# Creamos un objeto extractor:\n",
    "extractor = twitter_config()\n",
    "\n",
    "# Creamos una lista de tweets:\n",
    "tweets = extractor.user_timeline(screen_name=\"realDonaldTrump\", count=200)\n",
    "print(\"Tweets obtenidos: {}.\\n\".format(len(tweets)))\n",
    "\n",
    "# Imprimimos los primeros 5 tweets:\n",
    "print(\"Los primeros 5 tweets:\\n\")\n",
    "for tweet in tweets[:5]:\n",
    "    print(tweet.text)\n",
    "    print()"
   ]
  },
  {
   "cell_type": "markdown",
   "metadata": {},
   "source": [
    "## Creamos un dataframe"
   ]
  },
  {
   "cell_type": "markdown",
   "metadata": {},
   "source": [
    "Ahora tenemos información inicial para construir un `DataFrame` de pandas, para poder manipular la información de manera más sencilla.\n",
    "\n",
    "La función `display` de Jupyter Notebook nos permite tener un ploteo más amigable, y el método `head` de un dataframe nos permite visualizar sólo los primeros 5 elementos (o el número que elementos que se le pasen como argumento)."
   ]
  },
  {
   "cell_type": "code",
   "execution_count": 4,
   "metadata": {
    "ExecuteTime": {
     "end_time": "2017-07-14T23:29:13.673292Z",
     "start_time": "2017-07-14T23:29:13.658565Z"
    }
   },
   "outputs": [
    {
     "data": {
      "text/html": [
       "<div>\n",
       "<style>\n",
       "    .dataframe thead tr:only-child th {\n",
       "        text-align: right;\n",
       "    }\n",
       "\n",
       "    .dataframe thead th {\n",
       "        text-align: left;\n",
       "    }\n",
       "\n",
       "    .dataframe tbody tr th {\n",
       "        vertical-align: top;\n",
       "    }\n",
       "</style>\n",
       "<table border=\"1\" class=\"dataframe\">\n",
       "  <thead>\n",
       "    <tr style=\"text-align: right;\">\n",
       "      <th></th>\n",
       "      <th>Tweets</th>\n",
       "    </tr>\n",
       "  </thead>\n",
       "  <tbody>\n",
       "    <tr>\n",
       "      <th>0</th>\n",
       "      <td>President @EmmanuelMacron,\\nThank you for invi...</td>\n",
       "    </tr>\n",
       "    <tr>\n",
       "      <th>1</th>\n",
       "      <td>Just landed from Paris, France. It was an incr...</td>\n",
       "    </tr>\n",
       "    <tr>\n",
       "      <th>2</th>\n",
       "      <td>Left Paris for U.S.A. Will be heading to New J...</td>\n",
       "    </tr>\n",
       "    <tr>\n",
       "      <th>3</th>\n",
       "      <td>Great conversations with President @EmmanuelMa...</td>\n",
       "    </tr>\n",
       "    <tr>\n",
       "      <th>4</th>\n",
       "      <td>The United States mourns for the victims of Ni...</td>\n",
       "    </tr>\n",
       "    <tr>\n",
       "      <th>5</th>\n",
       "      <td>It was a great honor to represent the United S...</td>\n",
       "    </tr>\n",
       "    <tr>\n",
       "      <th>6</th>\n",
       "      <td>.@VP Mike Pence is working hard on HealthCare ...</td>\n",
       "    </tr>\n",
       "    <tr>\n",
       "      <th>7</th>\n",
       "      <td>After all of these years of suffering thru Oba...</td>\n",
       "    </tr>\n",
       "    <tr>\n",
       "      <th>8</th>\n",
       "      <td>So impt Rep Senators, under leadership of @Sen...</td>\n",
       "    </tr>\n",
       "    <tr>\n",
       "      <th>9</th>\n",
       "      <td>Republicans Senators are working hard to get t...</td>\n",
       "    </tr>\n",
       "  </tbody>\n",
       "</table>\n",
       "</div>"
      ],
      "text/plain": [
       "                                              Tweets\n",
       "0  President @EmmanuelMacron,\\nThank you for invi...\n",
       "1  Just landed from Paris, France. It was an incr...\n",
       "2  Left Paris for U.S.A. Will be heading to New J...\n",
       "3  Great conversations with President @EmmanuelMa...\n",
       "4  The United States mourns for the victims of Ni...\n",
       "5  It was a great honor to represent the United S...\n",
       "6  .@VP Mike Pence is working hard on HealthCare ...\n",
       "7  After all of these years of suffering thru Oba...\n",
       "8  So impt Rep Senators, under leadership of @Sen...\n",
       "9  Republicans Senators are working hard to get t..."
      ]
     },
     "metadata": {},
     "output_type": "display_data"
    }
   ],
   "source": [
    "# Podemos crear un dataframe como sigue:\n",
    "datos = pd.DataFrame(data=[tweet.text for tweet in tweets], columns=['Tweets'])\n",
    "\n",
    "# Hacemos un display del dataframe:\n",
    "display(datos.head(10))"
   ]
  },
  {
   "cell_type": "markdown",
   "metadata": {},
   "source": [
    "Algo interesante es la cantidad de métodos internos que tiene la estructura de un tweet en Tweepy:"
   ]
  },
  {
   "cell_type": "code",
   "execution_count": 5,
   "metadata": {
    "ExecuteTime": {
     "end_time": "2017-07-14T23:29:13.681772Z",
     "start_time": "2017-07-14T23:29:13.676090Z"
    }
   },
   "outputs": [
    {
     "name": "stdout",
     "output_type": "stream",
     "text": [
      "['__class__', '__delattr__', '__dict__', '__dir__', '__doc__', '__eq__', '__format__', '__ge__', '__getattribute__', '__getstate__', '__gt__', '__hash__', '__init__', '__init_subclass__', '__le__', '__lt__', '__module__', '__ne__', '__new__', '__reduce__', '__reduce_ex__', '__repr__', '__setattr__', '__sizeof__', '__str__', '__subclasshook__', '__weakref__', '_api', '_json', 'author', 'contributors', 'coordinates', 'created_at', 'destroy', 'entities', 'favorite', 'favorite_count', 'favorited', 'geo', 'id', 'id_str', 'in_reply_to_screen_name', 'in_reply_to_status_id', 'in_reply_to_status_id_str', 'in_reply_to_user_id', 'in_reply_to_user_id_str', 'is_quote_status', 'lang', 'parse', 'parse_list', 'place', 'possibly_sensitive', 'retweet', 'retweet_count', 'retweeted', 'retweets', 'source', 'source_url', 'text', 'truncated', 'user']\n"
     ]
    }
   ],
   "source": [
    "# Imprimimos métodos internos:\n",
    "print(dir(tweets[0]))"
   ]
  },
  {
   "cell_type": "markdown",
   "metadata": {},
   "source": [
    "De aquí resulta interesante que, si queremos obtener datos como la fecha de creación de un tweet o el dispositivo con el que fue creado, podemos acceder a esta información con métodos que aparecen en esta lista. Un ejemplo es el siguiente:"
   ]
  },
  {
   "cell_type": "code",
   "execution_count": 6,
   "metadata": {
    "ExecuteTime": {
     "end_time": "2017-07-14T23:29:13.700455Z",
     "start_time": "2017-07-14T23:29:13.685082Z"
    }
   },
   "outputs": [
    {
     "name": "stdout",
     "output_type": "stream",
     "text": [
      "885992108565291008\n",
      "2017-07-14 22:39:14\n",
      "Media Studio\n",
      "15069\n",
      "3575\n",
      "None\n",
      "None\n",
      "{'hashtags': [], 'symbols': [], 'user_mentions': [{'screen_name': 'EmmanuelMacron', 'name': 'Emmanuel Macron', 'id': 1976143068, 'id_str': '1976143068', 'indices': [10, 25]}], 'urls': [{'url': 'https://t.co/TQH3wEGxT8', 'expanded_url': 'https://twitter.com/i/web/status/885992108565291008', 'display_url': 'twitter.com/i/web/status/8…', 'indices': [112, 135]}]}\n"
     ]
    }
   ],
   "source": [
    "# Imprimimos info del primer tweet:\n",
    "print(tweets[0].id)\n",
    "print(tweets[0].created_at)\n",
    "print(tweets[0].source)\n",
    "print(tweets[0].favorite_count)\n",
    "print(tweets[0].retweet_count)\n",
    "print(tweets[0].geo)\n",
    "print(tweets[0].coordinates)\n",
    "print(tweets[0].entities)"
   ]
  },
  {
   "cell_type": "markdown",
   "metadata": {},
   "source": [
    "## Añadimos información relevante"
   ]
  },
  {
   "cell_type": "markdown",
   "metadata": {},
   "source": [
    "Esta información de cada tweet puede ser agregada a nuestro dataframe:"
   ]
  },
  {
   "cell_type": "code",
   "execution_count": 7,
   "metadata": {
    "ExecuteTime": {
     "end_time": "2017-07-14T23:29:13.728659Z",
     "start_time": "2017-07-14T23:29:13.704636Z"
    },
    "collapsed": true
   },
   "outputs": [],
   "source": [
    "# Añadimos datos relevantes:\n",
    "datos['len'] = np.array([len(tweet.text) for tweet in tweets])\n",
    "datos['ID']  = np.array([tweet.id for tweet in tweets])\n",
    "datos['Creado'] = np.array([tweet.created_at for tweet in tweets])\n",
    "datos['Fuente'] = np.array([tweet.source for tweet in tweets])\n",
    "datos['Likes']  = np.array([tweet.favorite_count for tweet in tweets])\n",
    "datos['RTs']    = np.array([tweet.retweet_count for tweet in tweets])"
   ]
  },
  {
   "cell_type": "markdown",
   "metadata": {},
   "source": [
    "Reimprimendo parte de nuestro dataframe, vemos que la actualización se realiza:"
   ]
  },
  {
   "cell_type": "code",
   "execution_count": 8,
   "metadata": {
    "ExecuteTime": {
     "end_time": "2017-07-14T23:29:13.759888Z",
     "start_time": "2017-07-14T23:29:13.732923Z"
    }
   },
   "outputs": [
    {
     "data": {
      "text/html": [
       "<div>\n",
       "<style>\n",
       "    .dataframe thead tr:only-child th {\n",
       "        text-align: right;\n",
       "    }\n",
       "\n",
       "    .dataframe thead th {\n",
       "        text-align: left;\n",
       "    }\n",
       "\n",
       "    .dataframe tbody tr th {\n",
       "        vertical-align: top;\n",
       "    }\n",
       "</style>\n",
       "<table border=\"1\" class=\"dataframe\">\n",
       "  <thead>\n",
       "    <tr style=\"text-align: right;\">\n",
       "      <th></th>\n",
       "      <th>Tweets</th>\n",
       "      <th>len</th>\n",
       "      <th>ID</th>\n",
       "      <th>Creado</th>\n",
       "      <th>Fuente</th>\n",
       "      <th>Likes</th>\n",
       "      <th>RTs</th>\n",
       "    </tr>\n",
       "  </thead>\n",
       "  <tbody>\n",
       "    <tr>\n",
       "      <th>0</th>\n",
       "      <td>President @EmmanuelMacron,\\nThank you for invi...</td>\n",
       "      <td>135</td>\n",
       "      <td>885992108565291008</td>\n",
       "      <td>2017-07-14 22:39:14</td>\n",
       "      <td>Media Studio</td>\n",
       "      <td>15069</td>\n",
       "      <td>3575</td>\n",
       "    </tr>\n",
       "    <tr>\n",
       "      <th>1</th>\n",
       "      <td>Just landed from Paris, France. It was an incr...</td>\n",
       "      <td>136</td>\n",
       "      <td>885988016912838656</td>\n",
       "      <td>2017-07-14 22:22:58</td>\n",
       "      <td>Twitter for iPhone</td>\n",
       "      <td>19016</td>\n",
       "      <td>3616</td>\n",
       "    </tr>\n",
       "    <tr>\n",
       "      <th>2</th>\n",
       "      <td>Left Paris for U.S.A. Will be heading to New J...</td>\n",
       "      <td>133</td>\n",
       "      <td>885865609971605508</td>\n",
       "      <td>2017-07-14 14:16:34</td>\n",
       "      <td>Twitter for iPhone</td>\n",
       "      <td>42408</td>\n",
       "      <td>7409</td>\n",
       "    </tr>\n",
       "    <tr>\n",
       "      <th>3</th>\n",
       "      <td>Great conversations with President @EmmanuelMa...</td>\n",
       "      <td>107</td>\n",
       "      <td>885858247277727746</td>\n",
       "      <td>2017-07-14 13:47:19</td>\n",
       "      <td>Twitter for iPhone</td>\n",
       "      <td>37073</td>\n",
       "      <td>7154</td>\n",
       "    </tr>\n",
       "    <tr>\n",
       "      <th>4</th>\n",
       "      <td>The United States mourns for the victims of Ni...</td>\n",
       "      <td>139</td>\n",
       "      <td>885856351557210112</td>\n",
       "      <td>2017-07-14 13:39:47</td>\n",
       "      <td>Twitter for iPhone</td>\n",
       "      <td>36956</td>\n",
       "      <td>8050</td>\n",
       "    </tr>\n",
       "    <tr>\n",
       "      <th>5</th>\n",
       "      <td>It was a great honor to represent the United S...</td>\n",
       "      <td>140</td>\n",
       "      <td>885817217455140864</td>\n",
       "      <td>2017-07-14 11:04:16</td>\n",
       "      <td>Twitter for iPhone</td>\n",
       "      <td>51782</td>\n",
       "      <td>11807</td>\n",
       "    </tr>\n",
       "    <tr>\n",
       "      <th>6</th>\n",
       "      <td>.@VP Mike Pence is working hard on HealthCare ...</td>\n",
       "      <td>127</td>\n",
       "      <td>885773130723205120</td>\n",
       "      <td>2017-07-14 08:09:05</td>\n",
       "      <td>Twitter for iPhone</td>\n",
       "      <td>46579</td>\n",
       "      <td>9081</td>\n",
       "    </tr>\n",
       "    <tr>\n",
       "      <th>7</th>\n",
       "      <td>After all of these years of suffering thru Oba...</td>\n",
       "      <td>114</td>\n",
       "      <td>885772727315030020</td>\n",
       "      <td>2017-07-14 08:07:29</td>\n",
       "      <td>Twitter for iPhone</td>\n",
       "      <td>57053</td>\n",
       "      <td>12713</td>\n",
       "    </tr>\n",
       "    <tr>\n",
       "      <th>8</th>\n",
       "      <td>So impt Rep Senators, under leadership of @Sen...</td>\n",
       "      <td>139</td>\n",
       "      <td>885772254017187840</td>\n",
       "      <td>2017-07-14 08:05:36</td>\n",
       "      <td>Twitter for iPhone</td>\n",
       "      <td>38943</td>\n",
       "      <td>8028</td>\n",
       "    </tr>\n",
       "    <tr>\n",
       "      <th>9</th>\n",
       "      <td>Republicans Senators are working hard to get t...</td>\n",
       "      <td>124</td>\n",
       "      <td>885770227514052608</td>\n",
       "      <td>2017-07-14 07:57:33</td>\n",
       "      <td>Twitter for iPhone</td>\n",
       "      <td>54739</td>\n",
       "      <td>11360</td>\n",
       "    </tr>\n",
       "  </tbody>\n",
       "</table>\n",
       "</div>"
      ],
      "text/plain": [
       "                                              Tweets  len                  ID  \\\n",
       "0  President @EmmanuelMacron,\\nThank you for invi...  135  885992108565291008   \n",
       "1  Just landed from Paris, France. It was an incr...  136  885988016912838656   \n",
       "2  Left Paris for U.S.A. Will be heading to New J...  133  885865609971605508   \n",
       "3  Great conversations with President @EmmanuelMa...  107  885858247277727746   \n",
       "4  The United States mourns for the victims of Ni...  139  885856351557210112   \n",
       "5  It was a great honor to represent the United S...  140  885817217455140864   \n",
       "6  .@VP Mike Pence is working hard on HealthCare ...  127  885773130723205120   \n",
       "7  After all of these years of suffering thru Oba...  114  885772727315030020   \n",
       "8  So impt Rep Senators, under leadership of @Sen...  139  885772254017187840   \n",
       "9  Republicans Senators are working hard to get t...  124  885770227514052608   \n",
       "\n",
       "               Creado              Fuente  Likes    RTs  \n",
       "0 2017-07-14 22:39:14        Media Studio  15069   3575  \n",
       "1 2017-07-14 22:22:58  Twitter for iPhone  19016   3616  \n",
       "2 2017-07-14 14:16:34  Twitter for iPhone  42408   7409  \n",
       "3 2017-07-14 13:47:19  Twitter for iPhone  37073   7154  \n",
       "4 2017-07-14 13:39:47  Twitter for iPhone  36956   8050  \n",
       "5 2017-07-14 11:04:16  Twitter for iPhone  51782  11807  \n",
       "6 2017-07-14 08:09:05  Twitter for iPhone  46579   9081  \n",
       "7 2017-07-14 08:07:29  Twitter for iPhone  57053  12713  \n",
       "8 2017-07-14 08:05:36  Twitter for iPhone  38943   8028  \n",
       "9 2017-07-14 07:57:33  Twitter for iPhone  54739  11360  "
      ]
     },
     "metadata": {},
     "output_type": "display_data"
    }
   ],
   "source": [
    "# Hacemos un display del dataframe:\n",
    "display(datos.head(10))"
   ]
  },
  {
   "cell_type": "markdown",
   "metadata": {},
   "source": [
    "Muy bien, estamos listos para realizar un posterior análisis.\n",
    "\n",
    "¡Sube el nivel!"
   ]
  },
  {
   "cell_type": "markdown",
   "metadata": {},
   "source": [
    "# **Visualización y estadística básica**"
   ]
  },
  {
   "cell_type": "markdown",
   "metadata": {},
   "source": [
    "## Promedios y popularidad"
   ]
  },
  {
   "cell_type": "markdown",
   "metadata": {},
   "source": [
    "Primero nos interesa conocer estadísticos básicos sobre la información que extragimos, como la media de las longitudes de cada tweet, cuál fue el tweet con más favoritos, cuál fue el tweet más retweeteado, etc."
   ]
  },
  {
   "cell_type": "code",
   "execution_count": 9,
   "metadata": {
    "ExecuteTime": {
     "end_time": "2017-07-14T23:29:13.773824Z",
     "start_time": "2017-07-14T23:29:13.763683Z"
    }
   },
   "outputs": [
    {
     "name": "stdout",
     "output_type": "stream",
     "text": [
      "El promedio de caracteres en tweets: 122.455\n"
     ]
    }
   ],
   "source": [
    "# Extraemos el promedio:\n",
    "media = np.mean(datos['len'])\n",
    "\n",
    "print(\"El promedio de caracteres en tweets: {}\".format(media))"
   ]
  },
  {
   "cell_type": "code",
   "execution_count": 10,
   "metadata": {
    "ExecuteTime": {
     "end_time": "2017-07-14T23:29:13.832249Z",
     "start_time": "2017-07-14T23:29:13.779302Z"
    }
   },
   "outputs": [
    {
     "name": "stdout",
     "output_type": "stream",
     "text": [
      "El tweet con más likes es: \n",
      "#FraudNewsCNN #FNN https://t.co/WYUnHjjUjg\n",
      "Número de likes: 604722\n",
      "42 caracteres.\n",
      "\n",
      "El tweet con más retweets es: \n",
      "#FraudNewsCNN #FNN https://t.co/WYUnHjjUjg\n",
      "Número de retweets: 369437\n",
      "42 caracteres.\n",
      "\n"
     ]
    }
   ],
   "source": [
    "# Extraemos el tweet con más FAVs y con más RTs:\n",
    "\n",
    "fav_max = np.max(datos['Likes'])\n",
    "rt_max  = np.max(datos['RTs'])\n",
    "\n",
    "fav = datos[datos.Likes == fav_max].index[0]\n",
    "rt  = datos[datos.RTs == rt_max].index[0]\n",
    "\n",
    "# Max FAVs:\n",
    "print(\"El tweet con más likes es: \\n{}\".format(datos['Tweets'][fav]))\n",
    "print(\"Número de likes: {}\".format(fav_max))\n",
    "print(\"{} caracteres.\\n\".format(datos['len'][fav]))\n",
    "\n",
    "# Max RTs:\n",
    "print(\"El tweet con más retweets es: \\n{}\".format(datos['Tweets'][rt]))\n",
    "print(\"Número de retweets: {}\".format(rt_max))\n",
    "print(\"{} caracteres.\\n\".format(datos['len'][rt]))\n"
   ]
  },
  {
   "cell_type": "markdown",
   "metadata": {},
   "source": [
    "## Series de tiempo"
   ]
  },
  {
   "cell_type": "markdown",
   "metadata": {},
   "source": [
    "Dado que tenemos todo un vector de fechas de creación, podemos construir una serie de tiempo con respecto a longitudes de tweets, favoritos y retweets."
   ]
  },
  {
   "cell_type": "code",
   "execution_count": 11,
   "metadata": {
    "ExecuteTime": {
     "end_time": "2017-07-14T23:29:13.849704Z",
     "start_time": "2017-07-14T23:29:13.837143Z"
    }
   },
   "outputs": [],
   "source": [
    "# Creamos series de tiempo para datos:\n",
    "\n",
    "tlen = pd.Series(data=datos['len'].values, index=datos['Creado'])\n",
    "tfav = pd.Series(data=datos['Likes'].values, index=datos['Creado'])\n",
    "tret = pd.Series(data=datos['RTs'].values, index=datos['Creado'])"
   ]
  },
  {
   "cell_type": "markdown",
   "metadata": {},
   "source": [
    "Visualizamos las series de tiempo en plots:"
   ]
  },
  {
   "cell_type": "code",
   "execution_count": 12,
   "metadata": {
    "ExecuteTime": {
     "end_time": "2017-07-14T23:29:14.311748Z",
     "start_time": "2017-07-14T23:29:13.853912Z"
    }
   },
   "outputs": [
    {
     "data": {
      "image/png": "[encoded data removed]",
      "text/plain": [
       "<matplotlib.figure.Figure at 0x116b329e8>"
      ]
     },
     "metadata": {},
     "output_type": "display_data"
    }
   ],
   "source": [
    "# Visualización de longitudes:\n",
    "tlen.plot(figsize=(16,4), color='r');"
   ]
  },
  {
   "cell_type": "code",
   "execution_count": 13,
   "metadata": {
    "ExecuteTime": {
     "end_time": "2017-07-14T23:29:14.704736Z",
     "start_time": "2017-07-14T23:29:14.315108Z"
    }
   },
   "outputs": [
    {
     "data": {
      "image/png": "[encoded data removed]",
      "text/plain": [
       "<matplotlib.figure.Figure at 0x116b87320>"
      ]
     },
     "metadata": {},
     "output_type": "display_data"
    }
   ],
   "source": [
    "# Visualización de likes vs retweets:\n",
    "tfav.plot(figsize=(16,4), label=\"Likes\", legend=True)\n",
    "tret.plot(figsize=(16,4), label=\"Retweets\", legend=True);"
   ]
  },
  {
   "cell_type": "markdown",
   "metadata": {},
   "source": [
    "## Pie charts de dispositivos"
   ]
  },
  {
   "cell_type": "markdown",
   "metadata": {},
   "source": [
    "Limpiamos las fuentes de creación de tweets para hacer un pie chart:"
   ]
  },
  {
   "cell_type": "code",
   "execution_count": 14,
   "metadata": {
    "ExecuteTime": {
     "end_time": "2017-07-14T23:29:14.719103Z",
     "start_time": "2017-07-14T23:29:14.707241Z"
    }
   },
   "outputs": [
    {
     "name": "stdout",
     "output_type": "stream",
     "text": [
      "Fuentes de creación de contenido:\n",
      "* Media Studio\n",
      "* Twitter for iPhone\n",
      "* Twitter Web Client\n",
      "* Twitter Ads\n"
     ]
    }
   ],
   "source": [
    "# Obtenemos posibles fuentes:\n",
    "fuentes = []\n",
    "for fuente in datos['Fuente']:\n",
    "    if fuente not in fuentes:\n",
    "        fuentes.append(fuente)\n",
    "\n",
    "# Imprimimos fuentes:\n",
    "print(\"Fuentes de creación de contenido:\")\n",
    "for fuente in fuentes:\n",
    "    print(\"* {}\".format(fuente))"
   ]
  },
  {
   "cell_type": "markdown",
   "metadata": {},
   "source": [
    "Contamos dispositivos y creamos un pie chart:"
   ]
  },
  {
   "cell_type": "code",
   "execution_count": 15,
   "metadata": {
    "ExecuteTime": {
     "end_time": "2017-07-14T23:29:14.981511Z",
     "start_time": "2017-07-14T23:29:14.724312Z"
    }
   },
   "outputs": [
    {
     "data": {
      "image/png": "[encoded data removed]",
      "text/plain": [
       "<matplotlib.figure.Figure at 0x118de8fd0>"
      ]
     },
     "metadata": {},
     "output_type": "display_data"
    }
   ],
   "source": [
    "# Creamos un vector mapeado a etiquetas:\n",
    "porcent = np.zeros(len(fuentes))\n",
    "\n",
    "for fuente in datos['Fuente']:\n",
    "    for index in range(len(fuentes)):\n",
    "        if fuente == fuentes[index]:\n",
    "            porcent[index] += 1\n",
    "            pass\n",
    "\n",
    "porcent /= 100\n",
    "\n",
    "# Pie chart:\n",
    "pie_chart = pd.Series(porcent, index=fuentes, name='Fuentes')\n",
    "pie_chart.plot.pie(fontsize=11, autopct='%.2f', figsize=(6, 6));"
   ]
  },
  {
   "cell_type": "markdown",
   "metadata": {},
   "source": [
    "Ya tenemos estadístigas y gráficas muy básicas sobre los datos obtenidos.\n",
    "\n",
    "¿Y si hacemos análisis de sentimientos?"
   ]
  },
  {
   "cell_type": "markdown",
   "metadata": {},
   "source": [
    "# **Análisis de sentimientos**"
   ]
  },
  {
   "cell_type": "markdown",
   "metadata": {},
   "source": [
    "## Importando textblob"
   ]
  },
  {
   "cell_type": "markdown",
   "metadata": {},
   "source": [
    "**TextBlob** es una biblioteca de Python (2 y 3) para procesar datos de texto. Proporciona una API sencilla para ahondar en las tareas comunes de procesamiento del lenguaje natural (PNL), como el etiquetado de parte del habla, la extracción de frase nominal, el análisis de sentimientos, la clasificación, la traducción y mucho más."
   ]
  },
  {
   "cell_type": "code",
   "execution_count": 16,
   "metadata": {
    "ExecuteTime": {
     "end_time": "2017-07-14T23:29:15.445025Z",
     "start_time": "2017-07-14T23:29:14.984573Z"
    }
   },
   "outputs": [],
   "source": [
    "from textblob import TextBlob\n",
    "import re\n",
    "\n",
    "def limpia_tweet(tweet):\n",
    "    '''\n",
    "    Función de utilidad para limpiar el texto de un tweet removiendo \n",
    "    enlaces y caracteres especiales usando regex.\n",
    "    '''\n",
    "    return ' '.join(re.sub(\"(@[A-Za-z0-9]+)|([^0-9A-Za-z \\t])|(\\w+:\\/\\/\\S+)\", \" \", tweet).split())\n",
    "\n",
    "def analiza_sentimiento(tweet):\n",
    "    '''\n",
    "    Función de utilidad para clasificar el sentimiento del tweet\n",
    "    proporcionado utilizando textblob\n",
    "    '''\n",
    "    analysis = TextBlob(limpia_tweet(tweet))\n",
    "    if analysis.sentiment.polarity > 0:\n",
    "        return 1\n",
    "    elif analysis.sentiment.polarity == 0:\n",
    "        return 0\n",
    "    else:\n",
    "        return -1"
   ]
  },
  {
   "cell_type": "markdown",
   "metadata": {},
   "source": [
    "## Analizando sentimientos"
   ]
  },
  {
   "cell_type": "markdown",
   "metadata": {},
   "source": [
    "Con estas funciones podemos realizar un análisis de sentimientos de tweets de nuestro dataframe."
   ]
  },
  {
   "cell_type": "code",
   "execution_count": 17,
   "metadata": {
    "ExecuteTime": {
     "end_time": "2017-07-14T23:29:15.586313Z",
     "start_time": "2017-07-14T23:29:15.447320Z"
    }
   },
   "outputs": [
    {
     "data": {
      "text/html": [
       "<div>\n",
       "<style>\n",
       "    .dataframe thead tr:only-child th {\n",
       "        text-align: right;\n",
       "    }\n",
       "\n",
       "    .dataframe thead th {\n",
       "        text-align: left;\n",
       "    }\n",
       "\n",
       "    .dataframe tbody tr th {\n",
       "        vertical-align: top;\n",
       "    }\n",
       "</style>\n",
       "<table border=\"1\" class=\"dataframe\">\n",
       "  <thead>\n",
       "    <tr style=\"text-align: right;\">\n",
       "      <th></th>\n",
       "      <th>Tweets</th>\n",
       "      <th>len</th>\n",
       "      <th>ID</th>\n",
       "      <th>Creado</th>\n",
       "      <th>Fuente</th>\n",
       "      <th>Likes</th>\n",
       "      <th>RTs</th>\n",
       "      <th>AdS</th>\n",
       "    </tr>\n",
       "  </thead>\n",
       "  <tbody>\n",
       "    <tr>\n",
       "      <th>0</th>\n",
       "      <td>President @EmmanuelMacron,\\nThank you for invi...</td>\n",
       "      <td>135</td>\n",
       "      <td>885992108565291008</td>\n",
       "      <td>2017-07-14 22:39:14</td>\n",
       "      <td>Media Studio</td>\n",
       "      <td>15069</td>\n",
       "      <td>3575</td>\n",
       "      <td>0</td>\n",
       "    </tr>\n",
       "    <tr>\n",
       "      <th>1</th>\n",
       "      <td>Just landed from Paris, France. It was an incr...</td>\n",
       "      <td>136</td>\n",
       "      <td>885988016912838656</td>\n",
       "      <td>2017-07-14 22:22:58</td>\n",
       "      <td>Twitter for iPhone</td>\n",
       "      <td>19016</td>\n",
       "      <td>3616</td>\n",
       "      <td>1</td>\n",
       "    </tr>\n",
       "    <tr>\n",
       "      <th>2</th>\n",
       "      <td>Left Paris for U.S.A. Will be heading to New J...</td>\n",
       "      <td>133</td>\n",
       "      <td>885865609971605508</td>\n",
       "      <td>2017-07-14 14:16:34</td>\n",
       "      <td>Twitter for iPhone</td>\n",
       "      <td>42408</td>\n",
       "      <td>7409</td>\n",
       "      <td>1</td>\n",
       "    </tr>\n",
       "    <tr>\n",
       "      <th>3</th>\n",
       "      <td>Great conversations with President @EmmanuelMa...</td>\n",
       "      <td>107</td>\n",
       "      <td>885858247277727746</td>\n",
       "      <td>2017-07-14 13:47:19</td>\n",
       "      <td>Twitter for iPhone</td>\n",
       "      <td>37073</td>\n",
       "      <td>7154</td>\n",
       "      <td>1</td>\n",
       "    </tr>\n",
       "    <tr>\n",
       "      <th>4</th>\n",
       "      <td>The United States mourns for the victims of Ni...</td>\n",
       "      <td>139</td>\n",
       "      <td>885856351557210112</td>\n",
       "      <td>2017-07-14 13:39:47</td>\n",
       "      <td>Twitter for iPhone</td>\n",
       "      <td>36956</td>\n",
       "      <td>8050</td>\n",
       "      <td>1</td>\n",
       "    </tr>\n",
       "    <tr>\n",
       "      <th>5</th>\n",
       "      <td>It was a great honor to represent the United S...</td>\n",
       "      <td>140</td>\n",
       "      <td>885817217455140864</td>\n",
       "      <td>2017-07-14 11:04:16</td>\n",
       "      <td>Twitter for iPhone</td>\n",
       "      <td>51782</td>\n",
       "      <td>11807</td>\n",
       "      <td>1</td>\n",
       "    </tr>\n",
       "    <tr>\n",
       "      <th>6</th>\n",
       "      <td>.@VP Mike Pence is working hard on HealthCare ...</td>\n",
       "      <td>127</td>\n",
       "      <td>885773130723205120</td>\n",
       "      <td>2017-07-14 08:09:05</td>\n",
       "      <td>Twitter for iPhone</td>\n",
       "      <td>46579</td>\n",
       "      <td>9081</td>\n",
       "      <td>1</td>\n",
       "    </tr>\n",
       "    <tr>\n",
       "      <th>7</th>\n",
       "      <td>After all of these years of suffering thru Oba...</td>\n",
       "      <td>114</td>\n",
       "      <td>885772727315030020</td>\n",
       "      <td>2017-07-14 08:07:29</td>\n",
       "      <td>Twitter for iPhone</td>\n",
       "      <td>57053</td>\n",
       "      <td>12713</td>\n",
       "      <td>0</td>\n",
       "    </tr>\n",
       "    <tr>\n",
       "      <th>8</th>\n",
       "      <td>So impt Rep Senators, under leadership of @Sen...</td>\n",
       "      <td>139</td>\n",
       "      <td>885772254017187840</td>\n",
       "      <td>2017-07-14 08:05:36</td>\n",
       "      <td>Twitter for iPhone</td>\n",
       "      <td>38943</td>\n",
       "      <td>8028</td>\n",
       "      <td>0</td>\n",
       "    </tr>\n",
       "    <tr>\n",
       "      <th>9</th>\n",
       "      <td>Republicans Senators are working hard to get t...</td>\n",
       "      <td>124</td>\n",
       "      <td>885770227514052608</td>\n",
       "      <td>2017-07-14 07:57:33</td>\n",
       "      <td>Twitter for iPhone</td>\n",
       "      <td>54739</td>\n",
       "      <td>11360</td>\n",
       "      <td>-1</td>\n",
       "    </tr>\n",
       "  </tbody>\n",
       "</table>\n",
       "</div>"
      ],
      "text/plain": [
       "                                              Tweets  len                  ID  \\\n",
       "0  President @EmmanuelMacron,\\nThank you for invi...  135  885992108565291008   \n",
       "1  Just landed from Paris, France. It was an incr...  136  885988016912838656   \n",
       "2  Left Paris for U.S.A. Will be heading to New J...  133  885865609971605508   \n",
       "3  Great conversations with President @EmmanuelMa...  107  885858247277727746   \n",
       "4  The United States mourns for the victims of Ni...  139  885856351557210112   \n",
       "5  It was a great honor to represent the United S...  140  885817217455140864   \n",
       "6  .@VP Mike Pence is working hard on HealthCare ...  127  885773130723205120   \n",
       "7  After all of these years of suffering thru Oba...  114  885772727315030020   \n",
       "8  So impt Rep Senators, under leadership of @Sen...  139  885772254017187840   \n",
       "9  Republicans Senators are working hard to get t...  124  885770227514052608   \n",
       "\n",
       "               Creado              Fuente  Likes    RTs  AdS  \n",
       "0 2017-07-14 22:39:14        Media Studio  15069   3575    0  \n",
       "1 2017-07-14 22:22:58  Twitter for iPhone  19016   3616    1  \n",
       "2 2017-07-14 14:16:34  Twitter for iPhone  42408   7409    1  \n",
       "3 2017-07-14 13:47:19  Twitter for iPhone  37073   7154    1  \n",
       "4 2017-07-14 13:39:47  Twitter for iPhone  36956   8050    1  \n",
       "5 2017-07-14 11:04:16  Twitter for iPhone  51782  11807    1  \n",
       "6 2017-07-14 08:09:05  Twitter for iPhone  46579   9081    1  \n",
       "7 2017-07-14 08:07:29  Twitter for iPhone  57053  12713    0  \n",
       "8 2017-07-14 08:05:36  Twitter for iPhone  38943   8028    0  \n",
       "9 2017-07-14 07:57:33  Twitter for iPhone  54739  11360   -1  "
      ]
     },
     "metadata": {},
     "output_type": "display_data"
    }
   ],
   "source": [
    "# Creamos columna de resultados del análisis\n",
    "datos['AdS'] = np.array([ analiza_sentimiento(tweet) for tweet in datos['Tweets'] ])\n",
    "\n",
    "# Hacemos display de los sentimientos:\n",
    "display(datos.head(10))"
   ]
  },
  {
   "cell_type": "markdown",
   "metadata": {},
   "source": [
    "## Analizando resultados"
   ]
  },
  {
   "cell_type": "markdown",
   "metadata": {},
   "source": [
    "Podemos construir una lista con todos los tweets clasificados, así como reportar porcentajes del análisis realizado."
   ]
  },
  {
   "cell_type": "code",
   "execution_count": 18,
   "metadata": {
    "ExecuteTime": {
     "end_time": "2017-07-14T23:29:15.607727Z",
     "start_time": "2017-07-14T23:29:15.590441Z"
    }
   },
   "outputs": [],
   "source": [
    "# Construimos listas con tweets clasificados:\n",
    "\n",
    "tweets_positivos = [ tweet for index, tweet in enumerate(datos['Tweets']) if datos['AdS'][index] > 0]\n",
    "tweets_neutros   = [ tweet for index, tweet in enumerate(datos['Tweets']) if datos['AdS'][index] == 0]\n",
    "tweets_negativos = [ tweet for index, tweet in enumerate(datos['Tweets']) if datos['AdS'][index] < 0]"
   ]
  },
  {
   "cell_type": "code",
   "execution_count": 19,
   "metadata": {
    "ExecuteTime": {
     "end_time": "2017-07-14T23:29:15.622292Z",
     "start_time": "2017-07-14T23:29:15.611226Z"
    }
   },
   "outputs": [
    {
     "name": "stdout",
     "output_type": "stream",
     "text": [
      "Porcentaje de tweets positivos: 51.5%\n",
      "Porcentaje de tweets neutros: 28.0%\n",
      "Porcentaje de tweets negativos: 20.5%\n"
     ]
    }
   ],
   "source": [
    "# Imprimimos porcentajes:\n",
    "\n",
    "print(\"Porcentaje de tweets positivos: {}%\".format(len(tweets_positivos)*100/len(datos['Tweets'])))\n",
    "print(\"Porcentaje de tweets neutros: {}%\".format(len(tweets_neutros)*100/len(datos['Tweets'])))\n",
    "print(\"Porcentaje de tweets negativos: {}%\".format(len(tweets_negativos)*100/len(datos['Tweets'])))"
   ]
  },
  {
   "cell_type": "code",
   "execution_count": null,
   "metadata": {
    "collapsed": true
   },
   "outputs": [],
   "source": []
  }
 ],
 "metadata": {
  "anaconda-cloud": {},
  "kernelspec": {
   "display_name": "Python [default]",
   "language": "python",
   "name": "python3"
  },
  "language_info": {
   "codemirror_mode": {
    "name": "ipython",
    "version": 3
   },
   "file_extension": ".py",
   "mimetype": "text/x-python",
   "name": "python",
   "nbconvert_exporter": "python",
   "pygments_lexer": "ipython3",
   "version": "3.6.1"
  },
  "toc": {
   "colors": {
    "hover_highlight": "#DAA520",
    "navigate_num": "#000000",
    "navigate_text": "#333333",
    "running_highlight": "#FF0000",
    "selected_highlight": "#FFD700",
    "sidebar_border": "#EEEEEE",
    "wrapper_background": "#FFFFFF"
   },
   "moveMenuLeft": true,
   "nav_menu": {
    "height": "266px",
    "width": "252px"
   },
   "navigate_menu": true,
   "number_sections": false,
   "sideBar": true,
   "threshold": 4,
   "toc_cell": true,
   "toc_section_display": "block",
   "toc_window_display": false,
   "widenNotebook": false
  }
 },
 "nbformat": 4,
 "nbformat_minor": 2
}
