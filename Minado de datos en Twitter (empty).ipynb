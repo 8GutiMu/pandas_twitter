{
 "cells": [
  {
   "cell_type": "markdown",
   "metadata": {
    "toc": "true"
   },
   "source": [
    "# Table of Contents\n",
    " <p><div class=\"lev1 toc-item\"><a href=\"#Minando-datos-de-Twitter-con-Pandas-+-Tweepy\" data-toc-modified-id=\"Minando-datos-de-Twitter-con-Pandas-+-Tweepy-1\"><span class=\"toc-item-num\">1&nbsp;&nbsp;</span><strong>Minando datos de Twitter con Pandas + Tweepy</strong></a></div><div class=\"lev2 toc-item\"><a href=\"#Importamos-nuestras-librerías\" data-toc-modified-id=\"Importamos-nuestras-librerías-11\"><span class=\"toc-item-num\">1.1&nbsp;&nbsp;</span>Importamos nuestras librerías</a></div><div class=\"lev2 toc-item\"><a href=\"#Creamos-una-App-de-Twitter\" data-toc-modified-id=\"Creamos-una-App-de-Twitter-12\"><span class=\"toc-item-num\">1.2&nbsp;&nbsp;</span>Creamos una App de Twitter</a></div><div class=\"lev2 toc-item\"><a href=\"#Extraemos-tweets\" data-toc-modified-id=\"Extraemos-tweets-13\"><span class=\"toc-item-num\">1.3&nbsp;&nbsp;</span>Extraemos tweets</a></div><div class=\"lev2 toc-item\"><a href=\"#Creamos-un-dataframe\" data-toc-modified-id=\"Creamos-un-dataframe-14\"><span class=\"toc-item-num\">1.4&nbsp;&nbsp;</span>Creamos un dataframe</a></div><div class=\"lev2 toc-item\"><a href=\"#Añadimos-información-relevante\" data-toc-modified-id=\"Añadimos-información-relevante-15\"><span class=\"toc-item-num\">1.5&nbsp;&nbsp;</span>Añadimos información relevante</a></div><div class=\"lev1 toc-item\"><a href=\"#Visualización-y-estadística-básica\" data-toc-modified-id=\"Visualización-y-estadística-básica-2\"><span class=\"toc-item-num\">2&nbsp;&nbsp;</span><strong>Visualización y estadística básica</strong></a></div><div class=\"lev2 toc-item\"><a href=\"#Promedios-y-popularidad\" data-toc-modified-id=\"Promedios-y-popularidad-21\"><span class=\"toc-item-num\">2.1&nbsp;&nbsp;</span>Promedios y popularidad</a></div><div class=\"lev2 toc-item\"><a href=\"#Series-de-tiempo\" data-toc-modified-id=\"Series-de-tiempo-22\"><span class=\"toc-item-num\">2.2&nbsp;&nbsp;</span>Series de tiempo</a></div><div class=\"lev2 toc-item\"><a href=\"#Pie-charts-de-dispositivos\" data-toc-modified-id=\"Pie-charts-de-dispositivos-23\"><span class=\"toc-item-num\">2.3&nbsp;&nbsp;</span>Pie charts de dispositivos</a></div><div class=\"lev1 toc-item\"><a href=\"#Análisis-de-sentimientos\" data-toc-modified-id=\"Análisis-de-sentimientos-3\"><span class=\"toc-item-num\">3&nbsp;&nbsp;</span><strong>Análisis de sentimientos</strong></a></div><div class=\"lev2 toc-item\"><a href=\"#Importando-textblob\" data-toc-modified-id=\"Importando-textblob-31\"><span class=\"toc-item-num\">3.1&nbsp;&nbsp;</span>Importando textblob</a></div><div class=\"lev2 toc-item\"><a href=\"#Analizando-sentimientos\" data-toc-modified-id=\"Analizando-sentimientos-32\"><span class=\"toc-item-num\">3.2&nbsp;&nbsp;</span>Analizando sentimientos</a></div><div class=\"lev2 toc-item\"><a href=\"#Analizando-resultados\" data-toc-modified-id=\"Analizando-resultados-33\"><span class=\"toc-item-num\">3.3&nbsp;&nbsp;</span>Analizando resultados</a></div><div class=\"lev1 toc-item\"><a href=\"#Referencias\" data-toc-modified-id=\"Referencias-4\"><span class=\"toc-item-num\">4&nbsp;&nbsp;</span>Referencias</a></div>"
   ]
  },
  {
   "cell_type": "markdown",
   "metadata": {
    "slideshow": {
     "slide_type": "slide"
    }
   },
   "source": [
    "# **Minando datos de Twitter con Pandas + Tweepy**"
   ]
  },
  {
   "cell_type": "markdown",
   "metadata": {
    "slideshow": {
     "slide_type": "slide"
    }
   },
   "source": [
    "## Importamos nuestras librerías"
   ]
  },
  {
   "cell_type": "markdown",
   "metadata": {
    "slideshow": {
     "slide_type": "fragment"
    }
   },
   "source": [
    "**Pandas** es una biblioteca de código abierto, que proporciona estructuras de datos de alto rendimiento y fácil de usar y herramientas de análisis de datos para el lenguaje de programación Python.\n",
    "\n",
    "**Tweepy** es una biblioteca de Python fácil de usar para acceder a la API de Twitter."
   ]
  },
  {
   "cell_type": "markdown",
   "metadata": {
    "slideshow": {
     "slide_type": "subslide"
    }
   },
   "source": [
    "**NumPy** es el paquete fundamental para la computación científica con Python. Contiene entre otras cosas:\n",
    "* Un potente objeto de matriz N-dimensional\n",
    "* Sofisticadas funciones de radiodifusión\n",
    "* Herramientas para integrar código C / C ++ y Fortran\n",
    "* Álgebra lineal útil, transformada de Fourier y capacidades de números aleatorios\n",
    "\n",
    "Además de sus usos científicos obvios, NumPy también puede ser utilizado como un eficiente contenedor multidimensional de datos genéricos. Se pueden definir tipos de datos arbitrarios. Esto permite a NumPy integrarse de forma transparente y rápida con una amplia variedad de bases de datos."
   ]
  },
  {
   "cell_type": "markdown",
   "metadata": {
    "slideshow": {
     "slide_type": "subslide"
    }
   },
   "source": [
    "**Matplotlib** es una biblioteca de trazado de Python 2D que produce figuras de calidad de publicación en una variedad de formatos impresos y entornos interactivos entre plataformas. Matplotlib se puede utilizar en scripts Python, en el shell Python e IPython, en el Jupyter Notebook, en servidores de aplicaciones web y para kits de herramientas de interfaz gráfica de usuario.\n",
    "\n",
    "**Seaborn** es una biblioteca de visualización de Python basada en matplotlib. Proporciona una interfaz de alto nivel para dibujar gráficos estadísticos atractivos."
   ]
  },
  {
   "cell_type": "code",
   "execution_count": null,
   "metadata": {
    "ExecuteTime": {
     "end_time": "2017-09-02T03:21:57.428820Z",
     "start_time": "2017-09-02T03:21:56.145867Z"
    },
    "collapsed": true,
    "slideshow": {
     "slide_type": "slide"
    }
   },
   "outputs": [],
   "source": [
    "# General:\n",
    "# Tweepy           # Para consumir la API de Twitter\n",
    "# Pandas     # Para manejo de datos\n",
    "# NumPy      # Para operaciones numéricas\n",
    "\n",
    "# Para ploteo y visualización:\n",
    "# Seaborn\n",
    "# Display\n",
    "# Pyplot\n",
    "# Inline"
   ]
  },
  {
   "cell_type": "markdown",
   "metadata": {
    "slideshow": {
     "slide_type": "slide"
    }
   },
   "source": [
    "## Creamos una App de Twitter"
   ]
  },
  {
   "cell_type": "markdown",
   "metadata": {
    "slideshow": {
     "slide_type": "fragment"
    }
   },
   "source": [
    "Para poder extraer twits para un posterior análisis, debemos acceder a nuestra cuenta de Twitter y crear una app. El sitio para poder hacer eso es [https://apps.twitter.com/](https://apps.twitter.com/).\n",
    "\n",
    "De esta app que creamos necesitaremos actualizar nuestro script `credentials.py` con la siguiente información:\n",
    "* Consumer Key (API Key)\n",
    "* Consumer Secret (API Secret)\n",
    "* Access Token\n",
    "* Access Token Secret\n",
    "\n",
    "Habiendo hehco esto, podemos proceder a consumir el API de Twitter. Para ello, creamos una función que nos permita autenticar nuestras llaves de acceso y consumo."
   ]
  },
  {
   "cell_type": "code",
   "execution_count": null,
   "metadata": {
    "ExecuteTime": {
     "end_time": "2017-09-02T03:21:59.089623Z",
     "start_time": "2017-09-02T03:21:59.077624Z"
    },
    "collapsed": true
   },
   "outputs": [],
   "source": [
    "# Importamos nuestras llaves de acceso:\n",
    "from credentials import *\n",
    "\n",
    "# Configuración del API:\n",
    "def twitter_config():\n",
    "    \"\"\"\n",
    "    Función de utilidad para configurar el consumo del \n",
    "    API de Twitter con las llaves proporcionadas.\n",
    "    \"\"\"\n",
    "    # Autenticar y acceder usando llaves:\n",
    "    auth = tweepy.OAuthHandler(CONSUMER_KEY, CONSUMER_SECRET)\n",
    "    auth.set_access_token(ACCESS_TOKEN, ACCESS_SECRET)\n",
    "\n",
    "    # Regresar acceso al API:\n",
    "    api = tweepy.API(auth)\n",
    "    return api"
   ]
  },
  {
   "cell_type": "markdown",
   "metadata": {},
   "source": [
    "## Extraemos tweets"
   ]
  },
  {
   "cell_type": "markdown",
   "metadata": {},
   "source": [
    "Ahora podemos crear un extractor de datos de Twitter para un usuario en específico.\n",
    "\n",
    "En mi caso, utilizaré a Donald Trump ([@realDonaldTrump](https://twitter.com/realDonaldTrump)) como usuario a minar.\n",
    "\n",
    "\n",
    "<!-- <iframe src='https://twitter.com/realDonaldTrump' width=700 height=350></iframe> -->"
   ]
  },
  {
   "cell_type": "code",
   "execution_count": null,
   "metadata": {
    "ExecuteTime": {
     "end_time": "2017-09-02T03:22:03.421227Z",
     "start_time": "2017-09-02T03:22:02.131664Z"
    }
   },
   "outputs": [],
   "source": [
    "# Creamos un objeto extractor:\n",
    "\n",
    "\n",
    "# Creamos una lista de tweets:\n",
    "\n",
    "\n",
    "\n",
    "# Imprimimos los primeros 5 tweets:\n",
    "\n",
    "\n",
    "\n"
   ]
  },
  {
   "cell_type": "markdown",
   "metadata": {},
   "source": [
    "## Creamos un dataframe"
   ]
  },
  {
   "cell_type": "markdown",
   "metadata": {},
   "source": [
    "Ahora tenemos información inicial para construir un `DataFrame` de pandas, para poder manipular la información de manera más sencilla.\n",
    "\n",
    "La función `display` de Jupyter Notebook nos permite tener un ploteo más amigable, y el método `head` de un dataframe nos permite visualizar sólo los primeros 5 elementos (o el número que elementos que se le pasen como argumento)."
   ]
  },
  {
   "cell_type": "code",
   "execution_count": null,
   "metadata": {
    "ExecuteTime": {
     "end_time": "2017-09-02T03:22:07.856260Z",
     "start_time": "2017-09-02T03:22:07.833635Z"
    }
   },
   "outputs": [],
   "source": [
    "# Podemos crear un dataframe como sigue:\n",
    "\n",
    "\n",
    "# Hacemos un display del dataframe:\n"
   ]
  },
  {
   "cell_type": "markdown",
   "metadata": {},
   "source": [
    "Algo interesante es la cantidad de métodos internos que tiene la estructura de un tweet en Tweepy:"
   ]
  },
  {
   "cell_type": "code",
   "execution_count": null,
   "metadata": {
    "ExecuteTime": {
     "end_time": "2017-09-02T03:22:34.896911Z",
     "start_time": "2017-09-02T03:22:34.891327Z"
    }
   },
   "outputs": [],
   "source": [
    "# Imprimimos métodos internos:\n"
   ]
  },
  {
   "cell_type": "markdown",
   "metadata": {},
   "source": [
    "De aquí resulta interesante que, si queremos obtener datos como la fecha de creación de un tweet o el dispositivo con el que fue creado, podemos acceder a esta información con métodos que aparecen en esta lista. Un ejemplo es el siguiente:"
   ]
  },
  {
   "cell_type": "code",
   "execution_count": null,
   "metadata": {
    "ExecuteTime": {
     "end_time": "2017-09-02T03:22:37.416236Z",
     "start_time": "2017-09-02T03:22:37.399849Z"
    }
   },
   "outputs": [],
   "source": [
    "# Imprimimos info del primer tweet:\n",
    "\n",
    "\n",
    "\n",
    "\n",
    "\n",
    "\n",
    "\n"
   ]
  },
  {
   "cell_type": "markdown",
   "metadata": {},
   "source": [
    "## Añadimos información relevante"
   ]
  },
  {
   "cell_type": "markdown",
   "metadata": {},
   "source": [
    "Esta información de cada tweet puede ser agregada a nuestro dataframe:"
   ]
  },
  {
   "cell_type": "code",
   "execution_count": null,
   "metadata": {
    "ExecuteTime": {
     "end_time": "2017-09-02T03:22:40.934212Z",
     "start_time": "2017-09-02T03:22:40.915152Z"
    },
    "collapsed": true
   },
   "outputs": [],
   "source": [
    "# Añadimos datos relevantes:\n",
    "\n",
    "\n",
    "\n",
    "\n",
    "\n"
   ]
  },
  {
   "cell_type": "markdown",
   "metadata": {},
   "source": [
    "Reimprimendo parte de nuestro dataframe, vemos que la actualización se realiza:"
   ]
  },
  {
   "cell_type": "code",
   "execution_count": null,
   "metadata": {
    "ExecuteTime": {
     "end_time": "2017-09-02T03:22:43.176975Z",
     "start_time": "2017-09-02T03:22:43.156025Z"
    }
   },
   "outputs": [],
   "source": [
    "# Hacemos un display del dataframe:\n"
   ]
  },
  {
   "cell_type": "markdown",
   "metadata": {},
   "source": [
    "Muy bien, estamos listos para realizar un posterior análisis.\n",
    "\n",
    "¡Sube el nivel!"
   ]
  },
  {
   "cell_type": "markdown",
   "metadata": {},
   "source": [
    "# **Visualización y estadística básica**"
   ]
  },
  {
   "cell_type": "markdown",
   "metadata": {},
   "source": [
    "## Promedios y popularidad"
   ]
  },
  {
   "cell_type": "markdown",
   "metadata": {},
   "source": [
    "Primero nos interesa conocer estadísticos básicos sobre la información que extragimos, como la media de las longitudes de cada tweet, cuál fue el tweet con más favoritos, cuál fue el tweet más retweeteado, etc."
   ]
  },
  {
   "cell_type": "code",
   "execution_count": null,
   "metadata": {
    "ExecuteTime": {
     "end_time": "2017-09-02T03:22:50.136159Z",
     "start_time": "2017-09-02T03:22:50.127691Z"
    }
   },
   "outputs": [],
   "source": [
    "# Extraemos el promedio:\n",
    "\n",
    "\n"
   ]
  },
  {
   "cell_type": "code",
   "execution_count": null,
   "metadata": {
    "ExecuteTime": {
     "end_time": "2017-09-02T03:22:52.201735Z",
     "start_time": "2017-09-02T03:22:52.173380Z"
    }
   },
   "outputs": [],
   "source": [
    "# Extraemos el tweet con más FAVs y con más RTs:\n",
    "\n",
    "\n",
    "\n",
    "\n",
    "\n",
    "\n",
    "\n",
    "# Max FAVs:\n",
    "\n",
    "\n",
    "\n",
    "\n",
    "# Max RTs:\n",
    "\n",
    "\n",
    "\n"
   ]
  },
  {
   "cell_type": "markdown",
   "metadata": {},
   "source": [
    "## Series de tiempo"
   ]
  },
  {
   "cell_type": "markdown",
   "metadata": {},
   "source": [
    "Dado que tenemos todo un vector de fechas de creación, podemos construir una serie de tiempo con respecto a longitudes de tweets, favoritos y retweets."
   ]
  },
  {
   "cell_type": "code",
   "execution_count": null,
   "metadata": {
    "ExecuteTime": {
     "end_time": "2017-09-02T03:22:54.706966Z",
     "start_time": "2017-09-02T03:22:54.700391Z"
    },
    "collapsed": true
   },
   "outputs": [],
   "source": [
    "# Creamos series de tiempo para datos:\n",
    "\n",
    "\n",
    "\n"
   ]
  },
  {
   "cell_type": "markdown",
   "metadata": {},
   "source": [
    "Visualizamos las series de tiempo en plots:"
   ]
  },
  {
   "cell_type": "code",
   "execution_count": null,
   "metadata": {
    "ExecuteTime": {
     "end_time": "2017-09-02T03:22:56.848418Z",
     "start_time": "2017-09-02T03:22:56.478088Z"
    }
   },
   "outputs": [],
   "source": [
    "# Visualización de longitudes:\n"
   ]
  },
  {
   "cell_type": "code",
   "execution_count": null,
   "metadata": {
    "ExecuteTime": {
     "end_time": "2017-09-02T03:22:58.905107Z",
     "start_time": "2017-09-02T03:22:58.482217Z"
    }
   },
   "outputs": [],
   "source": [
    "# Visualización de likes vs retweets:\n",
    "\n"
   ]
  },
  {
   "cell_type": "markdown",
   "metadata": {},
   "source": [
    "## Pie charts de dispositivos"
   ]
  },
  {
   "cell_type": "markdown",
   "metadata": {},
   "source": [
    "Limpiamos las fuentes de creación de tweets para hacer un pie chart:"
   ]
  },
  {
   "cell_type": "code",
   "execution_count": null,
   "metadata": {
    "ExecuteTime": {
     "end_time": "2017-09-02T03:23:04.730613Z",
     "start_time": "2017-09-02T03:23:04.718663Z"
    }
   },
   "outputs": [],
   "source": [
    "# Obtenemos posibles fuentes:\n",
    "\n",
    "\n",
    "\n",
    "\n",
    "\n",
    "# Imprimimos fuentes:\n",
    "\n",
    "\n"
   ]
  },
  {
   "cell_type": "markdown",
   "metadata": {},
   "source": [
    "Contamos dispositivos y creamos un pie chart:"
   ]
  },
  {
   "cell_type": "code",
   "execution_count": null,
   "metadata": {
    "ExecuteTime": {
     "end_time": "2017-09-02T03:23:09.325071Z",
     "start_time": "2017-09-02T03:23:09.108949Z"
    }
   },
   "outputs": [],
   "source": [
    "# Creamos un vector mapeado a etiquetas:\n",
    "\n",
    "\n",
    "\n",
    "\n",
    "\n",
    "\n",
    "\n",
    "\n",
    "\n",
    "\n",
    "# Pie chart:\n",
    "\n"
   ]
  },
  {
   "cell_type": "markdown",
   "metadata": {},
   "source": [
    "Ya tenemos estadístigas y gráficas muy básicas sobre los datos obtenidos.\n",
    "\n",
    "¿Y si hacemos análisis de sentimientos?"
   ]
  },
  {
   "cell_type": "markdown",
   "metadata": {},
   "source": [
    "# **Análisis de sentimientos**"
   ]
  },
  {
   "cell_type": "markdown",
   "metadata": {},
   "source": [
    "## Importando textblob"
   ]
  },
  {
   "cell_type": "markdown",
   "metadata": {},
   "source": [
    "**TextBlob** es una biblioteca de Python (2 y 3) para procesar datos de texto. Proporciona una API sencilla para ahondar en las tareas comunes de procesamiento del lenguaje natural (PNL), como el etiquetado de parte del habla, la extracción de frase nominal, el análisis de sentimientos, la clasificación, la traducción y mucho más."
   ]
  },
  {
   "cell_type": "code",
   "execution_count": null,
   "metadata": {
    "ExecuteTime": {
     "end_time": "2017-09-02T03:23:16.245473Z",
     "start_time": "2017-09-02T03:23:15.503957Z"
    },
    "collapsed": true
   },
   "outputs": [],
   "source": [
    "from textblob import TextBlob\n",
    "import re\n",
    "\n",
    "def limpia_tweet(tweet):\n",
    "    '''\n",
    "    Función de utilidad para limpiar el texto de un tweet removiendo \n",
    "    enlaces y caracteres especiales usando regex.\n",
    "    '''\n",
    "    return ' '.join(re.sub(\"(@[A-Za-z0-9]+)|([^0-9A-Za-z \\t])|(\\w+:\\/\\/\\S+)\", \" \", tweet).split())\n",
    "\n",
    "def analiza_sentimiento(tweet):\n",
    "    '''\n",
    "    Función de utilidad para clasificar el sentimiento del tweet\n",
    "    proporcionado utilizando textblob\n",
    "    '''\n",
    "    analysis = TextBlob(limpia_tweet(tweet))\n",
    "    if analysis.sentiment.polarity > 0:\n",
    "        return 1\n",
    "    elif analysis.sentiment.polarity == 0:\n",
    "        return 0\n",
    "    else:\n",
    "        return -1"
   ]
  },
  {
   "cell_type": "markdown",
   "metadata": {},
   "source": [
    "## Analizando sentimientos"
   ]
  },
  {
   "cell_type": "markdown",
   "metadata": {},
   "source": [
    "Con estas funciones podemos realizar un análisis de sentimientos de tweets de nuestro dataframe."
   ]
  },
  {
   "cell_type": "code",
   "execution_count": null,
   "metadata": {
    "ExecuteTime": {
     "end_time": "2017-09-02T03:23:40.349808Z",
     "start_time": "2017-09-02T03:23:40.216532Z"
    }
   },
   "outputs": [],
   "source": [
    "# Creamos columna de resultados del análisis\n",
    "\n",
    "\n",
    "# Hacemos display de los sentimientos:\n"
   ]
  },
  {
   "cell_type": "markdown",
   "metadata": {},
   "source": [
    "## Analizando resultados"
   ]
  },
  {
   "cell_type": "markdown",
   "metadata": {},
   "source": [
    "Podemos construir una lista con todos los tweets clasificados, así como reportar porcentajes del análisis realizado."
   ]
  },
  {
   "cell_type": "code",
   "execution_count": null,
   "metadata": {
    "ExecuteTime": {
     "end_time": "2017-09-02T03:23:45.403975Z",
     "start_time": "2017-09-02T03:23:45.386585Z"
    },
    "collapsed": true
   },
   "outputs": [],
   "source": [
    "# Construimos listas con tweets clasificados:\n",
    "\n",
    "\n",
    "\n"
   ]
  },
  {
   "cell_type": "code",
   "execution_count": null,
   "metadata": {
    "ExecuteTime": {
     "end_time": "2017-09-02T03:23:46.639845Z",
     "start_time": "2017-09-02T03:23:46.631584Z"
    }
   },
   "outputs": [],
   "source": [
    "# Imprimimos porcentajes:\n",
    "\n",
    "\n",
    "\n"
   ]
  },
  {
   "cell_type": "markdown",
   "metadata": {
    "collapsed": true
   },
   "source": [
    "# Referencias"
   ]
  },
  {
   "cell_type": "markdown",
   "metadata": {},
   "source": [
    "1. [Documentación oficial de Tweepy](http://tweepy.readthedocs.io/en/v3.5.0/).\n",
    "2. [Documentación oficial de NumPy](https://docs.scipy.org/doc/numpy-dev/index.html).\n",
    "3. [Tutorial de NumPy](https://docs.scipy.org/doc/numpy-dev/user/quickstart.html).\n",
    "4. [Tutorial de Pandas](https://pandas.pydata.org/pandas-docs/stable/tutorials.html).\n",
    "5. [Documentación oficial de Pandas](https://pandas.pydata.org/pandas-docs/stable/index.html).\n",
    "6. [Documentación oficial de Matplotlib](http://matplotlib.org/index.html).\n",
    "7. [Tutorial de Pyplot](http://matplotlib.org/users/pyplot_tutorial.html).\n",
    "8. [Sitio oficial de Seaborn](https://seaborn.pydata.org/).\n",
    "9. [Documentación oficial de TextBlob](https://textblob.readthedocs.io/en/dev/).\n",
    "10. [Creación de clasificadores con TextBlob](https://textblob.readthedocs.io/en/dev/classifiers.html)."
   ]
  }
 ],
 "metadata": {
  "anaconda-cloud": {},
  "kernelspec": {
   "display_name": "Python [default]",
   "language": "python",
   "name": "python3"
  },
  "language_info": {
   "codemirror_mode": {
    "name": "ipython",
    "version": 3
   },
   "file_extension": ".py",
   "mimetype": "text/x-python",
   "name": "python",
   "nbconvert_exporter": "python",
   "pygments_lexer": "ipython3",
   "version": "3.6.1"
  },
  "toc": {
   "colors": {
    "hover_highlight": "#DAA520",
    "navigate_num": "#000000",
    "navigate_text": "#333333",
    "running_highlight": "#FF0000",
    "selected_highlight": "#FFD700",
    "sidebar_border": "#EEEEEE",
    "wrapper_background": "#FFFFFF"
   },
   "moveMenuLeft": true,
   "nav_menu": {
    "height": "266px",
    "width": "252px"
   },
   "navigate_menu": true,
   "number_sections": true,
   "sideBar": true,
   "threshold": 4,
   "toc_cell": true,
   "toc_section_display": "block",
   "toc_window_display": false,
   "widenNotebook": false
  }
 },
 "nbformat": 4,
 "nbformat_minor": 2
}
